{
 "cells": [
  {
   "cell_type": "markdown",
   "metadata": {},
   "source": [
    "<font color =\"red\"><h1>Traning</h1></font>"
   ]
  },
  {
   "cell_type": "markdown",
   "metadata": {},
   "source": [
    "<h2>Load data</h2>"
   ]
  },
  {
   "cell_type": "code",
   "execution_count": null,
   "metadata": {},
   "outputs": [],
   "source": [
    "# load Preprocessed Data\n",
    "Pickle_Data_Path = \"C:/Users/Rahul Patil/Desktop/Ganesh/Keras Practice/Image Classification/\"        # Path\n",
    "\n",
    "def Load_Data(path):\n",
    "    import pickle\n",
    "    import os\n",
    "    \n",
    "    pickel_in = open(os.path.join(path + 'X.pickle'), 'rb')\n",
    "    X = pickle.load(pickel_in)\n",
    "    pickel_in.close()\n",
    "    \n",
    "    pickel_in = open(os.path.join(path + 'Y.pickle'), 'rb')\n",
    "    Y = pickle.load(pickel_in)\n",
    "    pickel_in.close()\n",
    "    \n",
    "    return X , Y\n",
    "\n",
    "X, Y = Load_Data(Pickle_Data_Path)"
   ]
  },
  {
   "cell_type": "markdown",
   "metadata": {},
   "source": [
    "<h2>Split Into Traning and Testing</h2>"
   ]
  },
  {
   "cell_type": "markdown",
   "metadata": {},
   "source": [
    "<b>Let’s say you want to teach your dog a few tricks - sit, stay, roll over, etc. You can achieve this by giving the command and showing your dog what he needs to do when you say this command (training data). If you provide your dog with enough clear instructions on what he is suppose to learn, your dog might reach a point where he obeys your command almost every time (high training accuracy).\n",
    "<br></br>\n",
    "<br></br>\n",
    "You can brag to your friends that your dog can perform a lot of tricks. However, will your dog do the correct thing if your friend gives the command (testing data)? If your dog rolls over when your friend tells him to sit, it might mean that your dog is only good at performing a trick when you (training data) give the command (low testing accuracy). This is an example of overfitting.\n",
    "<br></br>\n",
    "<br></br>\n",
    "The reasons for why your dog only responds in the correct manner when you give the command can vary, but it comes down to your training data. Your friend might not showing the same body language as when you give the command. If your friend isn’t giving the exact same input data (tone of voice, pronunciation of the command, hand gesture, body language, etc.) as what he is trained on for a specific command, you might get a different outcome as what you would expect.\n",
    "<br></br>\n",
    "<br></br>\n",
    "If your training accuracy is high, but your testing accuracy is low, you can’t really advertise your model as a good model. Testing data allows you to test your model on data that is independent of your training data. If your model is actually a good model (performing the correct command in this case), it should perform just as well on your training data compared to your testing data.</b>"
   ]
  },
  {
   "cell_type": "code",
   "execution_count": null,
   "metadata": {},
   "outputs": [],
   "source": [
    "# Split Data into x_train, x_test, y_train, y_test\n",
    "test_size = 0.3                                                                    # test size , here it is 30% of entire dataset\n",
    "\n",
    "def Split_Data(X, Y, test_size):\n",
    "    from sklearn.model_selection import train_test_split\n",
    "    x_train, x_test, y_train, y_test = train_test_split(X, Y, random_state = 2, test_size = test_size)\n",
    "    \n",
    "    return x_train, x_test, y_train, y_test\n",
    "\n",
    "x_train, x_test, y_train, y_test = Split_Data(X, Y, test_size)"
   ]
  },
  {
   "cell_type": "markdown",
   "metadata": {},
   "source": [
    "<h2>Load Model</h2>"
   ]
  },
  {
   "cell_type": "code",
   "execution_count": null,
   "metadata": {},
   "outputs": [],
   "source": [
    "# Load Model\n",
    "Model_Path = \"C:/Users/Rahul Patil/Desktop/Ganesh/Keras Practice/Image Classification/\"    # Path\n",
    "def Load_model(path):\n",
    "    import os\n",
    "    \n",
    "    from keras.models import load_model\n",
    "\n",
    "    model = load_model(os.path.join(path + 'Model.h5'))              # Change file name to yours. \n",
    "    model.summary()\n",
    "    return model\n",
    "\n",
    "Model = Load_model(Model_Path)"
   ]
  },
  {
   "cell_type": "markdown",
   "metadata": {},
   "source": [
    "<h2>Training</h2>"
   ]
  },
  {
   "cell_type": "code",
   "execution_count": null,
   "metadata": {
    "scrolled": true
   },
   "outputs": [],
   "source": [
    "# for more optimizers checkout https://keras.io/optimizers/\n",
    "# for more losses checkout https://keras.io/losses/\n",
    "\n",
    "from keras.optimizers import SGD\n",
    "\n",
    "sgd = SGD(lr=0.01, decay=1e-6, momentum=0.9, nesterov=True)\n",
    "Model.compile(loss='binary_crossentropy',\n",
    "              optimizer=sgd,\n",
    "              metrics=['accuracy'])\n",
    "\n",
    "\n",
    "Epochs = 100                                                                # Change it, As per need.\n",
    "\n",
    "Model.fit(x_train, y_train, epochs=Epochs, validation_data=(x_test,y_test))"
   ]
  },
  {
   "cell_type": "markdown",
   "metadata": {},
   "source": [
    "<h2>Saving Trained model</h2>"
   ]
  },
  {
   "cell_type": "code",
   "execution_count": null,
   "metadata": {},
   "outputs": [],
   "source": [
    "def save_model(Model):\n",
    "    from keras.models import load_model\n",
    "    \n",
    "    # Saving whole models (architecture + weights + optimizer state)\n",
    "    filename = \"Trained_Model.h5\"                                                          #file name\n",
    "    Model.save(filename)  # creates a HDF5 file 'Model.h5'\n",
    "    print(filename, \"has been Saved.\")\n",
    "\n",
    "save_model(Model)"
   ]
  }
 ],
 "metadata": {
  "kernelspec": {
   "display_name": "Python 3",
   "language": "python",
   "name": "python3"
  },
  "language_info": {
   "codemirror_mode": {
    "name": "ipython",
    "version": 3
   },
   "file_extension": ".py",
   "mimetype": "text/x-python",
   "name": "python",
   "nbconvert_exporter": "python",
   "pygments_lexer": "ipython3",
   "version": "3.6.6"
  }
 },
 "nbformat": 4,
 "nbformat_minor": 2
}
